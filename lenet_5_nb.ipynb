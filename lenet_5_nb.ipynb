{
  "cells": [
    {
      "cell_type": "markdown",
      "metadata": {
        "id": "view-in-github"
      },
      "source": [
        "<a href=\"https://colab.research.google.com/github/qhungbui7/lenet-5/blob/main/lenet_5_nb.ipynb\" target=\"_parent\"><img src=\"https://colab.research.google.com/assets/colab-badge.svg\" alt=\"Open In Colab\"/></a>"
      ]
    },
    {
      "cell_type": "markdown",
      "metadata": {
        "id": "5qSgnewYFm2P"
      },
      "source": [
        "## Group 22\n",
        "\n",
        "\n",
        "\n",
        "| Student ID  | Full name  |\n",
        "|---|---|\n",
        "| 20127508  |  Bùi Quốc Hùng |\n",
        "|  20127521 |  Hồ Quang Khải |\n",
        "|  20127011 |  Lê Tấn Đạt  |\n",
        "\n",
        "## Work assignment\n",
        "\n",
        "| Work | Assignee |\n",
        "|---|---|\n",
        "| Planning + Review + Environment Prepatation for MNIST + Report |  Bùi Quốc Hùng |\n",
        "| Video | Hồ Quang Khải + Lê Tấn Đạt |\n",
        "| Prepatation for Fashion MNIST |  Hồ Quang Khải |\n",
        "| Implement a basic GPU Convolution kernel |  Hồ Quang Khải |\n",
        "| Tiled shared memory convolution |Lê Tấn Đạt|\n",
        "| Shared memory matrix multiplication and input matrix unrolling |Lê Tấn Đạt|\n",
        "| Kernel fusion for unrolling and matrix-multiplication|Bùi Quốc Hùng|\n",
        "| Weight matrix (kernel values) in constant memory |Lê Tấn Đạt|\n",
        "| Tuning with restrict and loop unrolling|Bùi Quốc Hùng|\n",
        "| Sweeping various parameters to find best values (block sizes, amount of thread coarsening) |Lê Tấn Đạt|\n",
        "| Multiple kernel implementations for different layer sizes|Hồ Quang Khải|\n",
        "| Input channel reduction: tree|Hồ Quang Khải|\n",
        "| Input channel reduction: atomics |Bùi Quốc Hùng|\n",
        "| Fixed point (FP16) arithmetic |Bùi Quốc Hùng|\n",
        "| Using Streams to overlap computation with data transfer|Bùi Quốc Hùng|\n",
        "| An advanced matrix multiplication algorithm |Hồ Quang Khải|\n",
        "\n",
        "\n"
      ]
    },
    {
      "cell_type": "markdown",
      "metadata": {
        "id": "xj87vPBcF5PJ"
      },
      "source": [
        "## How to run\n",
        "- We recommend this method: Clone from our Github. The source code from this submission is identical to the one on our Github.\n",
        "- About the data: https://drive.google.com/file/d/17TxUBVeP8vEoaoIylORYZRKdVWxOeKWv/view?usp=sharing (from https://www.kaggle.com/datasets/zalando-research/fashionmnist)\n",
        "- Where to put the data: Please create a folder, name it \"fashion-mnist\" in Google Drive: My Drive -> fashion-mnist"
      ]
    },
    {
      "cell_type": "code",
      "execution_count": 1,
      "metadata": {
        "colab": {
          "base_uri": "https://localhost:8080/"
        },
        "id": "VieH6ht6oFdv",
        "outputId": "fbf9c4a8-b272-4c1b-d511-e1979a29332c"
      },
      "outputs": [
        {
          "output_type": "stream",
          "name": "stdout",
          "text": [
            "Mounted at /content/drive\n"
          ]
        }
      ],
      "source": [
        "from google.colab import drive\n",
        "drive.mount('/content/drive', force_remount=True)"
      ]
    },
    {
      "cell_type": "code",
      "execution_count": 2,
      "metadata": {
        "colab": {
          "base_uri": "https://localhost:8080/"
        },
        "id": "E-vZIKr1Tipv",
        "outputId": "c325f075-e18a-4a68-bd48-496be3a7ac47"
      },
      "outputs": [
        {
          "output_type": "stream",
          "name": "stdout",
          "text": [
            "/content\n"
          ]
        }
      ],
      "source": [
        "%cd /content/"
      ]
    },
    {
      "cell_type": "code",
      "execution_count": null,
      "metadata": {
        "colab": {
          "base_uri": "https://localhost:8080/"
        },
        "id": "wwB9YzOnTZpt",
        "outputId": "2d83ea83-294e-41b0-8564-cdf660dd0d44"
      },
      "outputs": [
        {
          "name": "stdout",
          "output_type": "stream",
          "text": [
            "rm: cannot remove '/content/lenet-5': No such file or directory\n"
          ]
        }
      ],
      "source": [
        "!rm -r /content/lenet-5"
      ]
    },
    {
      "cell_type": "markdown",
      "metadata": {
        "id": "C6VWuaWM3KST"
      },
      "source": [
        "## NOTE\n",
        "- Rememeber to specify the development branch when cloning something\n",
        "- Change the execution file in CMakeLists.txt and execution below, for example I have written a new file called exp_newer_lenet.cc, then the execution file should be exp_newer_lenet\n",
        "- CMake project only allow one int main() function in the project, then write the main file in the ./lenet-5/main/ and then copy them into the project to execute cmake"
      ]
    },
    {
      "cell_type": "code",
      "execution_count": 3,
      "metadata": {
        "colab": {
          "base_uri": "https://localhost:8080/"
        },
        "id": "hWoSIx2KkkT6",
        "outputId": "a8848fa2-e070-4cad-cf77-7f461fe79335"
      },
      "outputs": [
        {
          "output_type": "stream",
          "name": "stdout",
          "text": [
            "Cloning into 'lenet-5'...\n",
            "remote: Enumerating objects: 1845, done.\u001b[K\n",
            "remote: Counting objects: 100% (1845/1845), done.\u001b[K\n",
            "remote: Compressing objects: 100% (1476/1476), done.\u001b[K\n",
            "remote: Total 1845 (delta 338), reused 1802 (delta 313), pack-reused 0\u001b[K\n",
            "Receiving objects: 100% (1845/1845), 2.45 MiB | 13.04 MiB/s, done.\n",
            "Resolving deltas: 100% (338/338), done.\n"
          ]
        }
      ],
      "source": [
        "!git clone -b hung-dev  https://github.com/qhungbui7/lenet-5.git"
      ]
    },
    {
      "cell_type": "code",
      "execution_count": 4,
      "metadata": {
        "colab": {
          "base_uri": "https://localhost:8080/"
        },
        "id": "xiUwpE1C5FLE",
        "outputId": "198ff17c-4827-4df1-98b1-7091e02ba7bc"
      },
      "outputs": [
        {
          "output_type": "stream",
          "name": "stdout",
          "text": [
            "Overwriting /content/lenet-5/main/exp_newer_lenet.cc\n"
          ]
        }
      ],
      "source": [
        "%%writefile /content/lenet-5/main/exp_newer_lenet.cc\n",
        "\n",
        "/*\n",
        " * CNN demo for MNIST dataset\n",
        " * Author: Kai Han (kaihana@163.com)\n",
        " * Details in https://github.com/iamhankai/mini-dnn-cpp\n",
        " * Copyright 2018 Kai Han\n",
        "*/\n",
        "\n",
        "#include <Eigen/Dense>\n",
        "#include <algorithm>\n",
        "#include <iostream>\n",
        "\n",
        "#include \"src/layer.h\"\n",
        "#include \"src/layer/conv.h\"\n",
        "#include \"src/layer/fully_connected.h\"\n",
        "#include \"src/layer/ave_pooling.h\"\n",
        "#include \"src/layer/max_pooling.h\"\n",
        "#include \"src/layer/relu.h\"\n",
        "#include \"src/layer/sigmoid.h\"\n",
        "#include \"src/layer/softmax.h\"\n",
        "#include \"src/loss.h\"\n",
        "#include \"src/loss/mse_loss.h\"\n",
        "#include \"src/loss/cross_entropy_loss.h\"\n",
        "#include \"src/custom/fashion_mnist.h\"\n",
        "#include \"src/network.h\"\n",
        "#include \"src/optimizer.h\"\n",
        "#include \"src/optimizer/sgd.h\"\n",
        "\n",
        "\n",
        "int main() {\n",
        "  // data\n",
        "  FASHION_MNIST dataset(\"../data/fashion-mnist/\");\n",
        "  dataset.read();\n",
        "  std::cout << \"Newer LeNet-5 implementation\" << std::endl;\n",
        "  int n_train = dataset.train_data.cols();\n",
        "  int dim_in = dataset.train_data.rows();\n",
        "  std::cout << \"mnist train number: \" << n_train << std::endl;\n",
        "  std::cout << \"mnist test number: \" << dataset.test_labels.cols() << std::endl;\n",
        "  // dnn\n",
        "\n",
        "  // Conv(int channel_in, int height_in, int width_in, int channel_out,\n",
        "  //      int height_kernel, int width_kernel, int stride = 1, int pad_w = 0,\n",
        "  //      int pad_h = 0)\n",
        "\n",
        "\n",
        "  // MaxPooling(int channel_in, int height_in, int width_in,\n",
        "  //            int height_pool, int width_pool, int stride = 1) :\n",
        "\n",
        "  // [(W−K+2P)/S]+1\n",
        "\n",
        "  Network lenet5;\n",
        "  Layer* conv1 = new Conv(1, 28, 28, 6, 5, 5, 1, 0, 0);\n",
        "  Layer* relu1 = new ReLU;\n",
        "  // (28 - 5 + 2 * 0) / 1 + 1 = 24\n",
        "\n",
        "  Layer* pool2 = new MaxPooling(6, 24, 24, 2, 2, 1);\n",
        "  // (24 - 2 + 2 * 0) / 1 + 1 = 23\n",
        "\n",
        "  Layer* conv3 = new Conv(6, 23, 23, 16, 5, 5, 1, 0, 0);\n",
        "  Layer* relu3 = new ReLU;\n",
        "  // (23 - 5 + 2 * 0) / 1 + 1 = 19\n",
        "\n",
        "  Layer* pool4 = new MaxPooling(16, 19, 19, 2, 2, 1);\n",
        "  // (23 - 2 + 2 * 0) / 1 + 1 = 18\n",
        "\n",
        "  Layer* fc6 = new FullyConnected(pool4->output_dim(), 120);\n",
        "  Layer* relu6 = new ReLU;\n",
        "  // 19 * 19 * 16 = 5776\n",
        "\n",
        "\n",
        "  Layer* fc7 = new FullyConnected(120, 84);\n",
        "  Layer* relu7 = new ReLU;\n",
        "\n",
        "  Layer* fc8 = new FullyConnected(84, 10);\n",
        "  Layer* softmax8 = new Softmax;\n",
        "\n",
        "  lenet5.add_layer(conv1);\n",
        "  lenet5.add_layer(relu1);\n",
        "\n",
        "  lenet5.add_layer(pool2);\n",
        "\n",
        "  lenet5.add_layer(conv3);\n",
        "  lenet5.add_layer(relu3);\n",
        "\n",
        "  lenet5.add_layer(pool4);\n",
        "\n",
        "  lenet5.add_layer(fc6);\n",
        "  lenet5.add_layer(relu6);\n",
        "\n",
        "  lenet5.add_layer(fc7);\n",
        "  lenet5.add_layer(relu7);\n",
        "\n",
        "  lenet5.add_layer(fc8);\n",
        "  lenet5.add_layer(softmax8);\n",
        "\n",
        "  // loss\n",
        "  Loss* loss = new CrossEntropy;\n",
        "  lenet5.add_loss(loss);\n",
        "  // train & test\n",
        "  SGD opt(0.001, 5e-4, 0.9, true);\n",
        "  // SGD opt(0.001);\n",
        "  const int n_epoch = 5;\n",
        "  const int batch_size = 128;\n",
        "  for (int epoch = 0; epoch < n_epoch; epoch ++) {\n",
        "    shuffle_data(dataset.train_data, dataset.train_labels);\n",
        "    for (int start_idx = 0; start_idx < n_train; start_idx += batch_size) {\n",
        "      int ith_batch = start_idx / batch_size;\n",
        "      Matrix x_batch = dataset.train_data.block(0, start_idx, dim_in,\n",
        "                                    std::min(batch_size, n_train - start_idx));\n",
        "      Matrix label_batch = dataset.train_labels.block(0, start_idx, 1,\n",
        "                                    std::min(batch_size, n_train - start_idx));\n",
        "      Matrix target_batch = one_hot_encode(label_batch, 10);\n",
        "      if (false && ith_batch % 10 == 1) {\n",
        "        std::cout << ith_batch << \"-th grad: \" << std::endl;\n",
        "        lenet5.check_gradient(x_batch, target_batch, 10);\n",
        "      }\n",
        "      lenet5.forward(x_batch);\n",
        "      lenet5.backward(x_batch, target_batch);\n",
        "      // display\n",
        "      if (ith_batch % 50 == 0) {\n",
        "        std::cout << ith_batch << \"-th batch, loss: \" << lenet5.get_loss()\n",
        "        << std::endl;\n",
        "      }\n",
        "      // optimize\n",
        "      lenet5.update(opt);\n",
        "    }\n",
        "    // test\n",
        "    lenet5.forward(dataset.test_data);\n",
        "    float acc = compute_accuracy(lenet5.output(), dataset.test_labels);\n",
        "    std::cout << std::endl;\n",
        "    std::cout << epoch + 1 << \"-th epoch, test acc: \" << acc << std::endl;\n",
        "    std::cout << std::endl;\n",
        "  }\n",
        "  return 0;\n",
        "}\n",
        "\n",
        "\n",
        "\n"
      ]
    },
    {
      "cell_type": "markdown",
      "metadata": {
        "id": "X6OOTHXi6uPC"
      },
      "source": [
        "Copy file from ./lenet-5/main/ to project folder"
      ]
    },
    {
      "cell_type": "code",
      "execution_count": 5,
      "metadata": {
        "id": "GEQgjGOY3VOE"
      },
      "outputs": [],
      "source": [
        "!cp ./lenet-5/main/exp_newer_lenet.cc ./lenet-5/exp_newer_lenet.cc"
      ]
    },
    {
      "cell_type": "code",
      "execution_count": 6,
      "metadata": {
        "colab": {
          "base_uri": "https://localhost:8080/"
        },
        "id": "fI8x1Tesosv1",
        "outputId": "f437d0e5-8fd0-41ec-e064-9e8824bc2ff5"
      },
      "outputs": [
        {
          "output_type": "stream",
          "name": "stdout",
          "text": [
            "Overwriting /content/lenet-5/CMakeLists.txt\n"
          ]
        }
      ],
      "source": [
        "%%writefile /content/lenet-5/CMakeLists.txt\n",
        "\n",
        "cmake_minimum_required (VERSION 3.0)\n",
        "project (myproject)\n",
        "include_directories (\"${PROJECT_SOURCE_DIR}/third_party/eigen\")\n",
        "# 查找当前目录下的所有源文件\n",
        "# 并将名称保存到 DIR_SRCS 变量\n",
        "aux_source_directory(. DIR_SRCS)\n",
        "# 添加 math 子目录\n",
        "add_subdirectory(src)\n",
        "# 指定生成目标\n",
        "add_executable(exp_newer_lenet ${DIR_SRCS})\n",
        "# 添加链接库\n",
        "target_link_libraries(exp_newer_lenet MiniDNNLib)"
      ]
    },
    {
      "cell_type": "code",
      "source": [
        "%%writefile /content/lenet-5/src/CMakeLists.txt\n",
        "\n",
        "# 查找当前目录下的所有源文件\n",
        "# 并将名称保存到 DIR_LIB_SRCS 变量\n",
        "aux_source_directory(. DIR_LIB_SRCS)\n",
        "aux_source_directory(./layer DIR_LIB_SRCS)\n",
        "aux_source_directory(./loss DIR_LIB_SRCS)\n",
        "aux_source_directory(./optimizer DIR_LIB_SRCS)\n",
        "aux_source_directory(./custom DIR_LIB_SRCS)\n",
        "# 生成链接库\n",
        "add_library (MiniDNNLib ${DIR_LIB_SRCS})"
      ],
      "metadata": {
        "id": "YXQGCemdtvx6",
        "colab": {
          "base_uri": "https://localhost:8080/"
        },
        "outputId": "7a7f35ad-092f-42a6-bf59-32c4d4f24081"
      },
      "execution_count": 7,
      "outputs": [
        {
          "output_type": "stream",
          "name": "stdout",
          "text": [
            "Overwriting /content/lenet-5/src/CMakeLists.txt\n"
          ]
        }
      ]
    },
    {
      "cell_type": "code",
      "execution_count": 8,
      "metadata": {
        "id": "ekaZavp9mLS1"
      },
      "outputs": [],
      "source": [
        "!mkdir ./lenet-5/data/\n",
        "!mkdir ./lenet-5/data/fashion-mnist"
      ]
    },
    {
      "cell_type": "markdown",
      "metadata": {
        "id": "RIOgqNkMOi3V"
      },
      "source": [
        "Copy from Google Drive to this this folder, then unzip it into destination folder"
      ]
    },
    {
      "cell_type": "code",
      "execution_count": 9,
      "metadata": {
        "id": "qxe4kqSWoIue"
      },
      "outputs": [],
      "source": [
        "!cp /content/drive/MyDrive/fashion-mnist/fashion-mnist.zip /content/fashion-mnist.zip"
      ]
    },
    {
      "cell_type": "code",
      "execution_count": 10,
      "metadata": {
        "colab": {
          "base_uri": "https://localhost:8080/"
        },
        "id": "SpBUlGJboOew",
        "outputId": "ef635a68-c452-4b46-8a11-72e4c76cc4be"
      },
      "outputs": [
        {
          "output_type": "stream",
          "name": "stdout",
          "text": [
            "Archive:  fashion-mnist.zip\n",
            "  inflating: ./lenet-5/data/fashion-mnist/fashion-mnist_test.csv  \n",
            "  inflating: ./lenet-5/data/fashion-mnist/fashion-mnist_train.csv  \n",
            "  inflating: ./lenet-5/data/fashion-mnist/t10k-images-idx3-ubyte  \n",
            "  inflating: ./lenet-5/data/fashion-mnist/t10k-labels-idx1-ubyte  \n",
            "  inflating: ./lenet-5/data/fashion-mnist/train-images-idx3-ubyte  \n",
            "  inflating: ./lenet-5/data/fashion-mnist/train-labels-idx1-ubyte  \n"
          ]
        }
      ],
      "source": [
        "!unzip fashion-mnist.zip -d ./lenet-5/data/fashion-mnist"
      ]
    },
    {
      "cell_type": "code",
      "execution_count": 11,
      "metadata": {
        "colab": {
          "base_uri": "https://localhost:8080/"
        },
        "id": "TLeCBPCikIid",
        "outputId": "9aeba77c-a871-4aaf-c894-c06ac703a9f1"
      },
      "outputs": [
        {
          "output_type": "stream",
          "name": "stdout",
          "text": [
            "/content/lenet-5\n"
          ]
        }
      ],
      "source": [
        "%cd ./lenet-5"
      ]
    },
    {
      "cell_type": "code",
      "execution_count": 12,
      "metadata": {
        "colab": {
          "base_uri": "https://localhost:8080/"
        },
        "id": "Q-3P_QmropOR",
        "outputId": "cbe8c250-4561-4d50-f9f8-47d74603510e"
      },
      "outputs": [
        {
          "output_type": "stream",
          "name": "stdout",
          "text": [
            "fashion-mnist\n"
          ]
        }
      ],
      "source": [
        "!ls ./data"
      ]
    },
    {
      "cell_type": "code",
      "execution_count": 13,
      "metadata": {
        "colab": {
          "base_uri": "https://localhost:8080/"
        },
        "id": "tGJq8p0eMdR4",
        "outputId": "8f9d6290-2eed-4ae7-dc18-8fb10dfd6b55"
      },
      "outputs": [
        {
          "output_type": "stream",
          "name": "stdout",
          "text": [
            "/content/lenet-5\n"
          ]
        }
      ],
      "source": [
        "%cd /content/lenet-5"
      ]
    },
    {
      "cell_type": "code",
      "execution_count": 18,
      "metadata": {
        "colab": {
          "base_uri": "https://localhost:8080/"
        },
        "id": "gyzckXW-pBte",
        "outputId": "9700ba84-6ff8-463a-f0ec-3afab47aa85d"
      },
      "outputs": [
        {
          "output_type": "stream",
          "name": "stdout",
          "text": [
            "/content/lenet-5/build\n",
            "\u001b[0mCMake Deprecation Warning at CMakeLists.txt:2 (cmake_minimum_required):\n",
            "  Compatibility with CMake < 3.5 will be removed from a future version of\n",
            "  CMake.\n",
            "\n",
            "  Update the VERSION argument <min> value or use a ...<max> suffix to tell\n",
            "  CMake that the project does not need compatibility with older versions.\n",
            "\n",
            "\u001b[0m\n",
            "-- Configuring done (0.0s)\n",
            "-- Generating done (0.0s)\n",
            "-- Build files have been written to: /content/lenet-5/build\n",
            "[ 87%] Built target MiniDNNLib\n",
            "[100%] Built target exp_newer_lenet\n"
          ]
        }
      ],
      "source": [
        "!mkdir /content/lenet-5/build\n",
        "%cd /content/lenet-5/build\n",
        "!cmake /content/lenet-5/\n",
        "!make"
      ]
    },
    {
      "cell_type": "code",
      "execution_count": 16,
      "metadata": {
        "colab": {
          "base_uri": "https://localhost:8080/"
        },
        "id": "kxaEJL2SO8pt",
        "outputId": "e69cb7e6-966c-4a17-c81b-37e401f2bf7e"
      },
      "outputs": [
        {
          "output_type": "stream",
          "name": "stdout",
          "text": [
            "CMakeCache.txt\tCMakeFiles  cmake_install.cmake  exp_newer_lenet  Makefile  src\n"
          ]
        }
      ],
      "source": [
        "!ls"
      ]
    },
    {
      "cell_type": "code",
      "execution_count": 17,
      "metadata": {
        "colab": {
          "base_uri": "https://localhost:8080/"
        },
        "id": "QwcGOfwo3rpF",
        "outputId": "76f1a6ef-6e96-4269-9235-b297ba23ba3e"
      },
      "outputs": [
        {
          "output_type": "stream",
          "name": "stdout",
          "text": [
            "Newer LeNet-5 implementation\n",
            "mnist train number: 60000\n",
            "mnist test number: 10000\n",
            "0-th batch, loss: 2.30301\n",
            "^C\n"
          ]
        }
      ],
      "source": [
        "!./exp_newer_lenet"
      ]
    },
    {
      "cell_type": "code",
      "execution_count": null,
      "metadata": {
        "id": "pXKXyfFVj5Au"
      },
      "outputs": [],
      "source": [
        "# !nvcc exp_newer_lenet.cu -o exp_newer_lenet"
      ]
    },
    {
      "cell_type": "code",
      "execution_count": null,
      "metadata": {
        "id": "Sv8vpgaokEDe"
      },
      "outputs": [],
      "source": [
        "# !./exp_newer_lenet"
      ]
    },
    {
      "cell_type": "code",
      "execution_count": null,
      "metadata": {
        "id": "nTsnCKN6kR6_"
      },
      "outputs": [],
      "source": [
        "# ! nvprof ./exp_newer_lenet"
      ]
    }
  ],
  "metadata": {
    "colab": {
      "provenance": []
    },
    "kernelspec": {
      "display_name": "Python 3",
      "name": "python3"
    },
    "language_info": {
      "name": "python"
    }
  },
  "nbformat": 4,
  "nbformat_minor": 0
}