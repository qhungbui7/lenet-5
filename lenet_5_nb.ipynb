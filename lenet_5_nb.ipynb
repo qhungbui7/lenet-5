{
  "cells": [
    {
      "cell_type": "markdown",
      "metadata": {
        "id": "view-in-github",
        "colab_type": "text"
      },
      "source": [
        "<a href=\"https://colab.research.google.com/github/qhungbui7/lenet-5/blob/main/lenet_5_nb.ipynb\" target=\"_parent\"><img src=\"https://colab.research.google.com/assets/colab-badge.svg\" alt=\"Open In Colab\"/></a>"
      ]
    },
    {
      "cell_type": "markdown",
      "metadata": {
        "id": "5qSgnewYFm2P"
      },
      "source": [
        "## Group 22\n",
        "\n",
        "\n",
        "\n",
        "| Student ID  | Full name  |\n",
        "|---|---|\n",
        "| 20127508  |  Bùi Quốc Hùng |\n",
        "|  20127521 |  Hồ Quang Khải |\n",
        "|  20127011 |  Lê Tấn Đạt  |\n",
        "\n"
      ]
    },
    {
      "cell_type": "markdown",
      "metadata": {
        "id": "xj87vPBcF5PJ"
      },
      "source": [
        "## How to run\n",
        "- We recommend this method: Clone from our Github. The source code from this submission is identical to the one on our Github.\n",
        "- About the data: https://drive.google.com/file/d/17TxUBVeP8vEoaoIylORYZRKdVWxOeKWv/view?usp=sharing (from https://www.kaggle.com/datasets/zalando-research/fashionmnist)\n",
        "- Where to put the data: Please create a folder, name it \"fashion-mnist\" in Google Drive: My Drive -> fashion-mnist"
      ]
    },
    {
      "cell_type": "code",
      "execution_count": 1,
      "metadata": {
        "colab": {
          "base_uri": "https://localhost:8080/"
        },
        "id": "VieH6ht6oFdv",
        "outputId": "c2347f3d-3e64-4a46-d5dd-5bbb47e7be9b"
      },
      "outputs": [
        {
          "output_type": "stream",
          "name": "stdout",
          "text": [
            "Mounted at /content/drive\n"
          ]
        }
      ],
      "source": [
        "from google.colab import drive\n",
        "drive.mount('/content/drive', force_remount=True)"
      ]
    },
    {
      "cell_type": "code",
      "execution_count": 2,
      "metadata": {
        "colab": {
          "base_uri": "https://localhost:8080/"
        },
        "id": "E-vZIKr1Tipv",
        "outputId": "f1a9d5aa-fe30-434c-b895-a07f3e4b56b6"
      },
      "outputs": [
        {
          "output_type": "stream",
          "name": "stdout",
          "text": [
            "/content\n"
          ]
        }
      ],
      "source": [
        "%cd /content/"
      ]
    },
    {
      "cell_type": "code",
      "execution_count": 3,
      "metadata": {
        "id": "wwB9YzOnTZpt"
      },
      "outputs": [],
      "source": [
        "!rm -r /content/lenet-5"
      ]
    },
    {
      "cell_type": "markdown",
      "metadata": {
        "id": "C6VWuaWM3KST"
      },
      "source": [
        "## NOTE\n",
        "- Rememeber to specify the development branch when cloning something\n",
        "- Change the execution file in CMakeLists.txt and execution below, for example I have written a new file called exp_newer_lenet.cc, then the execution file should be exp_newer_lenet\n",
        "- CMake project only allow one int main() function in the project, then write the main file in the ./lenet-5/main/ and then copy them into the project to execute cmake"
      ]
    },
    {
      "cell_type": "code",
      "execution_count": 4,
      "metadata": {
        "colab": {
          "base_uri": "https://localhost:8080/"
        },
        "id": "hWoSIx2KkkT6",
        "outputId": "b575efc4-0f82-4c7f-e36d-d9d08979a671"
      },
      "outputs": [
        {
          "output_type": "stream",
          "name": "stdout",
          "text": [
            "Cloning into 'lenet-5'...\n",
            "remote: Enumerating objects: 3974, done.\u001b[K\n",
            "remote: Counting objects: 100% (260/260), done.\u001b[K\n",
            "remote: Compressing objects: 100% (168/168), done.\u001b[K\n",
            "remote: Total 3974 (delta 186), reused 148 (delta 91), pack-reused 3714\u001b[K\n",
            "Receiving objects: 100% (3974/3974), 4.60 MiB | 5.78 MiB/s, done.\n",
            "Resolving deltas: 100% (1856/1856), done.\n"
          ]
        }
      ],
      "source": [
        "!git clone -b hung-deploy https://github.com/qhungbui7/lenet-5.git"
      ]
    },
    {
      "cell_type": "code",
      "execution_count": 5,
      "metadata": {
        "colab": {
          "base_uri": "https://localhost:8080/"
        },
        "id": "xiUwpE1C5FLE",
        "outputId": "fadf00f4-bbff-4eb3-c657-778c584ebe81"
      },
      "outputs": [
        {
          "output_type": "stream",
          "name": "stdout",
          "text": [
            "Overwriting /content/lenet-5/main/exp_newer_lenet.cc\n"
          ]
        }
      ],
      "source": [
        "%%writefile /content/lenet-5/main/exp_newer_lenet.cc\n",
        "\n",
        "\n",
        "#include <Eigen/Dense>\n",
        "#include <algorithm>\n",
        "#include <iostream>\n",
        "\n",
        "#include \"src/layer.h\"\n",
        "#include \"src/layer/conv.h\"\n",
        "#include \"src/layer/fully_connected.h\"\n",
        "#include \"src/layer/ave_pooling.h\"\n",
        "#include \"src/layer/max_pooling.h\"\n",
        "#include \"src/layer/relu.h\"\n",
        "#include \"src/layer/sigmoid.h\"\n",
        "#include \"src/layer/softmax.h\"\n",
        "#include \"src/loss.h\"\n",
        "#include \"src/loss/mse_loss.h\"\n",
        "#include \"src/loss/cross_entropy_loss.h\"\n",
        "#include \"src/mnist.h\"\n",
        "#include \"src/network.h\"\n",
        "#include \"src/optimizer.h\"\n",
        "#include \"src/optimizer/sgd.h\"\n",
        "#include \"src/custom/fashion_mnist.h\"\n",
        "#include \"src/custom/stream/stream.h\"\n",
        "\n",
        "\n",
        "int main() {\n",
        "  // data\n",
        "  FASHION_MNIST dataset(\"../data/fashion-mnist/\");\n",
        "  dataset.read();\n",
        "  std::cout << \"Stream LeNet-5 implementation\" << std::endl;\n",
        "  int n_train = dataset.train_data.cols();\n",
        "  int dim_in = dataset.train_data.rows();\n",
        "  std::cout << \"mnist train number: \" << n_train << std::endl;\n",
        "  std::cout << \"mnist test number: \" << dataset.test_labels.cols() << std::endl;\n",
        "  // dnn\n",
        "\n",
        "  // Conv(int channel_in, int height_in, int width_in, int channel_out,\n",
        "  //      int height_kernel, int width_kernel, int stride = 1, int pad_w = 0,\n",
        "  //      int pad_h = 0)\n",
        "\n",
        "\n",
        "  // MaxPooling(int channel_in, int height_in, int width_in,\n",
        "  //            int height_pool, int width_pool, int stride = 1) :\n",
        "\n",
        "  // [(W−K+2P)/S]+1\n",
        "\n",
        "  Network lenet5;\n",
        "  Layer* conv1 = new Conv(1, 28, 28, 6, 5, 5, 1, 0, 0);\n",
        "  Layer* relu1 = new ReLU;\n",
        "  // (28 - 5 + 2 * 0) / 1 + 1 = 24\n",
        "\n",
        "  Layer* pool2 = new MaxPooling(6, 24, 24, 2, 2, 1);\n",
        "  // (24 - 2 + 2 * 0) / 1 + 1 = 23\n",
        "\n",
        "  Layer* conv3 = new Conv(6, 23, 23, 16, 5, 5, 1, 0, 0);\n",
        "  Layer* relu3 = new ReLU;\n",
        "  // (23 - 5 + 2 * 0) / 1 + 1 = 19\n",
        "\n",
        "  Layer* pool4 = new MaxPooling(16, 19, 19, 2, 2, 1);\n",
        "  // (23 - 2 + 2 * 0) / 1 + 1 = 18\n",
        "\n",
        "  Layer* fc6 = new FullyConnected(pool4->output_dim(), 120);\n",
        "  Layer* relu6 = new ReLU;\n",
        "  // 19 * 19 * 16 = 5776\n",
        "\n",
        "\n",
        "  Layer* fc7 = new FullyConnected(120, 84);\n",
        "  Layer* relu7 = new ReLU;\n",
        "\n",
        "  Layer* fc8 = new FullyConnected(84, 10);\n",
        "  Layer* softmax8 = new Softmax;\n",
        "\n",
        "  lenet5.add_layer(conv1);\n",
        "  lenet5.add_layer(relu1);\n",
        "\n",
        "  lenet5.add_layer(pool2);\n",
        "\n",
        "  lenet5.add_layer(conv3);\n",
        "  lenet5.add_layer(relu3);\n",
        "\n",
        "  lenet5.add_layer(pool4);\n",
        "\n",
        "  lenet5.add_layer(fc6);\n",
        "  lenet5.add_layer(relu6);\n",
        "\n",
        "  lenet5.add_layer(fc7);\n",
        "  lenet5.add_layer(relu7);\n",
        "\n",
        "  lenet5.add_layer(fc8);\n",
        "  lenet5.add_layer(softmax8);\n",
        "\n",
        "  // loss\n",
        "  Loss* loss = new CrossEntropy;\n",
        "  lenet5.add_loss(loss);\n",
        "  // train & test\n",
        "  SGD opt(0.001, 5e-4, 0.9, true);\n",
        "  // SGD opt(0.001);\n",
        "  const int n_epoch = 5;\n",
        "  const int batch_size = 128;\n",
        "  for (int epoch = 0; epoch < n_epoch; epoch ++) {\n",
        "    // break;\n",
        "    shuffle_data(dataset.train_data, dataset.train_labels);\n",
        "\n",
        "    lenet5.forward(dataset.test_data);\n",
        "    float acc = compute_accuracy(lenet5.output(), dataset.test_labels);\n",
        "    std::cout << std::endl;\n",
        "    std::cout << epoch + 1 << \"-th epoch, test acc: \" << acc << std::endl;\n",
        "    std::cout << std::endl;\n",
        "    break;\n",
        "  }\n",
        "\n",
        "\n",
        "  std::vector<std::vector<float>> weights = lenet5.get_parameters();\n",
        "\n",
        "\n",
        "\n",
        "  std::cout << \"GPU models\\n\";\n",
        "\n",
        "\n",
        "  Network c_lenet5;\n",
        "  Layer* c_conv1 = new Stream(1, 28, 28, 6, 5, 5, 1, 0, 0);\n",
        "  Layer* c_relu1 = new ReLU;\n",
        "  // (28 - 5 + 2 * 0) / 1 + 1 = 24\n",
        "\n",
        "  Layer* c_pool2 = new MaxPooling(6, 24, 24, 2, 2, 1);\n",
        "  // (24 - 2 + 2 * 0) / 1 + 1 = 23\n",
        "\n",
        "  Layer* c_conv3 = new Stream(6, 23, 23, 16, 5, 5, 1, 0, 0);\n",
        "  Layer* c_relu3 = new ReLU;\n",
        "  // (23 - 5 + 2 * 0) / 1 + 1 = 19\n",
        "\n",
        "  Layer* c_pool4 = new MaxPooling(16, 19, 19, 2, 2, 1);\n",
        "  // (23 - 2 + 2 * 0) / 1 + 1 = 18\n",
        "\n",
        "  Layer* c_fc6 = new FullyConnected(pool4->output_dim(), 120);\n",
        "  Layer* c_relu6 = new ReLU;\n",
        "  // 19 * 19 * 16 = 5776\n",
        "\n",
        "\n",
        "  Layer* c_fc7 = new FullyConnected(120, 84);\n",
        "  Layer* c_relu7 = new ReLU;\n",
        "\n",
        "  Layer* c_fc8 = new FullyConnected(84, 10);\n",
        "  Layer* c_softmax8 = new Softmax;\n",
        "\n",
        "  c_lenet5.add_layer(conv1);\n",
        "  c_lenet5.add_layer(relu1);\n",
        "\n",
        "  c_lenet5.add_layer(pool2);\n",
        "\n",
        "  c_lenet5.add_layer(conv3);\n",
        "  c_lenet5.add_layer(relu3);\n",
        "\n",
        "  c_lenet5.add_layer(pool4);\n",
        "\n",
        "  c_lenet5.add_layer(fc6);\n",
        "  c_lenet5.add_layer(relu6);\n",
        "\n",
        "  c_lenet5.add_layer(fc7);\n",
        "  c_lenet5.add_layer(relu7);\n",
        "\n",
        "  c_lenet5.add_layer(fc8);\n",
        "  c_lenet5.add_layer(softmax8);\n",
        "\n",
        "  c_lenet5.set_parameters(weights);\n",
        "\n",
        "  // loss\n",
        "  Loss* c_loss = new CrossEntropy;\n",
        "  c_lenet5.add_loss(c_loss);\n",
        "  // train & test\n",
        "  SGD c_opt(0.001, 5e-4, 0.9, true);\n",
        "  // SGD opt(0.001);\n",
        "  const int c_n_epoch = 5;\n",
        "  const int c_batch_size = 128;\n",
        "  for (int epoch = 0; epoch < c_n_epoch; epoch++) {\n",
        "    shuffle_data(dataset.train_data, dataset.train_labels);\n",
        "\n",
        "    c_lenet5.forward(dataset.test_data);\n",
        "    float c_acc = compute_accuracy(c_lenet5.output(), dataset.test_labels);\n",
        "    std::cout << std::endl;\n",
        "    std::cout << epoch + 1 << \"-th epoch, test acc: \" << c_acc << std::endl;\n",
        "    std::cout << std::endl;\n",
        "    break;\n",
        "\n",
        "\n",
        "\n",
        "  }\n",
        "  return 0;\n",
        "}\n",
        "\n",
        "\n",
        "\n",
        "\n"
      ]
    },
    {
      "cell_type": "markdown",
      "metadata": {
        "id": "X6OOTHXi6uPC"
      },
      "source": [
        "Copy file from ./lenet-5/main/ to project folder"
      ]
    },
    {
      "cell_type": "code",
      "execution_count": 6,
      "metadata": {
        "id": "GEQgjGOY3VOE"
      },
      "outputs": [],
      "source": [
        "!cp ./lenet-5/main/exp_newer_lenet.cc ./lenet-5/exp_newer_lenet.cc"
      ]
    },
    {
      "cell_type": "code",
      "execution_count": 7,
      "metadata": {
        "colab": {
          "base_uri": "https://localhost:8080/"
        },
        "id": "fI8x1Tesosv1",
        "outputId": "5320fb86-87a7-45d1-f94c-84cf939f2b5a"
      },
      "outputs": [
        {
          "output_type": "stream",
          "name": "stdout",
          "text": [
            "Overwriting /content/lenet-5/CMakeLists.txt\n"
          ]
        }
      ],
      "source": [
        "%%writefile /content/lenet-5/CMakeLists.txt\n",
        "\n",
        "cmake_minimum_required (VERSION 3.0)\n",
        "project (myproject LANGUAGES CXX CUDA)\n",
        "if(NOT DEFINED CMAKE_CUDA_ARCHITECTURES)\n",
        "  set(CMAKE_CUDA_ARCHITECTURES 75)\n",
        "endif()\n",
        "find_package(CUDA  REQUIRED)\n",
        "include_directories(\"${CUDA_INCLUDE_DIRS}\")\n",
        "set_target_properties(\n",
        "        PROPERTIES\n",
        "        CUDA_SEPARABLE_COMPILATION ON\n",
        ")\n",
        "\n",
        "include_directories (\"${PROJECT_SOURCE_DIR}/third_party/eigen\")\n",
        "# 查找当前目录下的所有源文件\n",
        "# 并将名称保存到 DIR_SRCS 变量\n",
        "aux_source_directory(. DIR_SRCS)\n",
        "# 添加 math 子目录\n",
        "add_subdirectory(src)\n",
        "# 指定生成目标\n",
        "add_executable(exp_newer_lenet ${DIR_SRCS})\n",
        "# 添加链接库\n",
        "target_link_libraries(exp_newer_lenet MiniDNNLib)"
      ]
    },
    {
      "cell_type": "code",
      "execution_count": 8,
      "metadata": {
        "colab": {
          "base_uri": "https://localhost:8080/"
        },
        "id": "YXQGCemdtvx6",
        "outputId": "13a24382-b256-489a-b34a-7f13124c8c6a"
      },
      "outputs": [
        {
          "output_type": "stream",
          "name": "stdout",
          "text": [
            "Overwriting /content/lenet-5/src/CMakeLists.txt\n"
          ]
        }
      ],
      "source": [
        "%%writefile /content/lenet-5/src/CMakeLists.txt\n",
        "\n",
        "# 查找当前目录下的所有源文件\n",
        "# 并将名称保存到 DIR_LIB_SRCS 变量\n",
        "aux_source_directory(. DIR_LIB_SRCS)\n",
        "aux_source_directory(./layer DIR_LIB_SRCS)\n",
        "aux_source_directory(./loss DIR_LIB_SRCS)\n",
        "aux_source_directory(./optimizer DIR_LIB_SRCS)\n",
        "aux_source_directory(./custom DIR_LIB_SRCS)\n",
        "aux_source_directory(./custom/diff-layer DIR_LIB_SRCS)\n",
        "aux_source_directory(./custom/reduction-tree DIR_LIB_SRCS)\n",
        "\n",
        "aux_source_directory(./custom/stream DIR_LIB_SRCS)\n",
        "aux_source_directory(./custom/fp16 DIR_LIB_SRCS)\n",
        "aux_source_directory(./custom/constant-mem DIR_LIB_SRCS)\n",
        "aux_source_directory(./custom/restrict-unroll DIR_LIB_SRCS)\n",
        "aux_source_directory(./custom/tiled DIR_LIB_SRCS)\n",
        "\n",
        "\n",
        "# 生成链接库\n",
        "add_library (MiniDNNLib ${DIR_LIB_SRCS})"
      ]
    },
    {
      "cell_type": "code",
      "execution_count": 9,
      "metadata": {
        "id": "ekaZavp9mLS1"
      },
      "outputs": [],
      "source": [
        "!mkdir ./lenet-5/data/\n",
        "!mkdir ./lenet-5/data/fashion-mnist"
      ]
    },
    {
      "cell_type": "markdown",
      "metadata": {
        "id": "RIOgqNkMOi3V"
      },
      "source": [
        "Copy from Google Drive to this this folder, then unzip it into destination folder"
      ]
    },
    {
      "cell_type": "code",
      "execution_count": 10,
      "metadata": {
        "id": "qxe4kqSWoIue"
      },
      "outputs": [],
      "source": [
        "!cp /content/drive/MyDrive/fashion-mnist/fashion-mnist.zip /content/fashion-mnist.zip"
      ]
    },
    {
      "cell_type": "code",
      "execution_count": 11,
      "metadata": {
        "colab": {
          "base_uri": "https://localhost:8080/"
        },
        "id": "SpBUlGJboOew",
        "outputId": "89897f98-3385-4ee3-c010-f4736f67ff08"
      },
      "outputs": [
        {
          "output_type": "stream",
          "name": "stdout",
          "text": [
            "Archive:  fashion-mnist.zip\n",
            "  inflating: ./lenet-5/data/fashion-mnist/fashion-mnist_test.csv  \n",
            "  inflating: ./lenet-5/data/fashion-mnist/fashion-mnist_train.csv  \n",
            "  inflating: ./lenet-5/data/fashion-mnist/t10k-images-idx3-ubyte  \n",
            "  inflating: ./lenet-5/data/fashion-mnist/t10k-labels-idx1-ubyte  \n",
            "  inflating: ./lenet-5/data/fashion-mnist/train-images-idx3-ubyte  \n",
            "  inflating: ./lenet-5/data/fashion-mnist/train-labels-idx1-ubyte  \n"
          ]
        }
      ],
      "source": [
        "!unzip fashion-mnist.zip -d ./lenet-5/data/fashion-mnist"
      ]
    },
    {
      "cell_type": "code",
      "execution_count": 12,
      "metadata": {
        "colab": {
          "base_uri": "https://localhost:8080/"
        },
        "id": "TLeCBPCikIid",
        "outputId": "87332371-2e7e-4af9-9337-6ac3cf035a16"
      },
      "outputs": [
        {
          "output_type": "stream",
          "name": "stdout",
          "text": [
            "/content/lenet-5\n"
          ]
        }
      ],
      "source": [
        "%cd ./lenet-5"
      ]
    },
    {
      "cell_type": "code",
      "execution_count": 13,
      "metadata": {
        "colab": {
          "base_uri": "https://localhost:8080/"
        },
        "id": "Q-3P_QmropOR",
        "outputId": "db9a2148-50a9-4629-e066-1bbd804608ff"
      },
      "outputs": [
        {
          "output_type": "stream",
          "name": "stdout",
          "text": [
            "fashion-mnist\n"
          ]
        }
      ],
      "source": [
        "!ls ./data"
      ]
    },
    {
      "cell_type": "code",
      "execution_count": 14,
      "metadata": {
        "colab": {
          "base_uri": "https://localhost:8080/"
        },
        "id": "tGJq8p0eMdR4",
        "outputId": "3f451a62-db89-49a3-b9cc-7c806b114c91"
      },
      "outputs": [
        {
          "output_type": "stream",
          "name": "stdout",
          "text": [
            "/content/lenet-5\n"
          ]
        }
      ],
      "source": [
        "%cd /content/lenet-5"
      ]
    },
    {
      "cell_type": "code",
      "execution_count": 15,
      "metadata": {
        "colab": {
          "base_uri": "https://localhost:8080/"
        },
        "id": "gyzckXW-pBte",
        "outputId": "166e940f-a703-4f6b-de12-3dd358d1bf90"
      },
      "outputs": [
        {
          "output_type": "stream",
          "name": "stdout",
          "text": [
            "/content/lenet-5/build\n",
            "\u001b[0mCMake Deprecation Warning at CMakeLists.txt:2 (cmake_minimum_required):\n",
            "  Compatibility with CMake < 3.5 will be removed from a future version of\n",
            "  CMake.\n",
            "\n",
            "  Update the VERSION argument <min> value or use a ...<max> suffix to tell\n",
            "  CMake that the project does not need compatibility with older versions.\n",
            "\n",
            "\u001b[0m\n",
            "-- The CXX compiler identification is GNU 11.4.0\n",
            "-- The CUDA compiler identification is NVIDIA 12.2.140\n",
            "-- Detecting CXX compiler ABI info\n",
            "-- Detecting CXX compiler ABI info - done\n",
            "-- Check for working CXX compiler: /usr/bin/c++ - skipped\n",
            "-- Detecting CXX compile features\n",
            "-- Detecting CXX compile features - done\n",
            "-- Detecting CUDA compiler ABI info\n",
            "-- Detecting CUDA compiler ABI info - done\n",
            "-- Check for working CUDA compiler: /usr/local/cuda/bin/nvcc - skipped\n",
            "-- Detecting CUDA compile features\n",
            "-- Detecting CUDA compile features - done\n",
            "\u001b[33mCMake Warning (dev) at CMakeLists.txt:7 (find_package):\n",
            "  Policy CMP0146 is not set: The FindCUDA module is removed.  Run \"cmake\n",
            "  --help-policy CMP0146\" for policy details.  Use the cmake_policy command to\n",
            "  set the policy and suppress this warning.\n",
            "\n",
            "This warning is for project developers.  Use -Wno-dev to suppress it.\n",
            "\u001b[0m\n",
            "-- Performing Test CMAKE_HAVE_LIBC_PTHREAD\n",
            "-- Performing Test CMAKE_HAVE_LIBC_PTHREAD - Success\n",
            "-- Found Threads: TRUE  \n",
            "-- Found CUDA: /usr/local/cuda (found version \"12.2\") \n",
            "-- Configuring done (6.8s)\n",
            "-- Generating done (0.0s)\n",
            "-- Build files have been written to: /content/lenet-5/build\n",
            "[  3%] \u001b[32mBuilding CXX object src/CMakeFiles/MiniDNNLib.dir/mnist.cc.o\u001b[0m\n",
            "[  7%] \u001b[32mBuilding CXX object src/CMakeFiles/MiniDNNLib.dir/network.cc.o\u001b[0m\n",
            "[ 10%] \u001b[32mBuilding CXX object src/CMakeFiles/MiniDNNLib.dir/layer/ave_pooling.cc.o\u001b[0m\n",
            "[ 14%] \u001b[32mBuilding CXX object src/CMakeFiles/MiniDNNLib.dir/layer/conv.cc.o\u001b[0m\n",
            "[ 17%] \u001b[32mBuilding CXX object src/CMakeFiles/MiniDNNLib.dir/layer/fully_connected.cc.o\u001b[0m\n",
            "[ 21%] \u001b[32mBuilding CXX object src/CMakeFiles/MiniDNNLib.dir/layer/max_pooling.cc.o\u001b[0m\n",
            "[ 25%] \u001b[32mBuilding CXX object src/CMakeFiles/MiniDNNLib.dir/layer/relu.cc.o\u001b[0m\n",
            "[ 28%] \u001b[32mBuilding CXX object src/CMakeFiles/MiniDNNLib.dir/layer/sigmoid.cc.o\u001b[0m\n",
            "[ 32%] \u001b[32mBuilding CXX object src/CMakeFiles/MiniDNNLib.dir/layer/softmax.cc.o\u001b[0m\n",
            "[ 35%] \u001b[32mBuilding CXX object src/CMakeFiles/MiniDNNLib.dir/loss/cross_entropy_loss.cc.o\u001b[0m\n",
            "[ 39%] \u001b[32mBuilding CXX object src/CMakeFiles/MiniDNNLib.dir/loss/mse_loss.cc.o\u001b[0m\n",
            "[ 42%] \u001b[32mBuilding CXX object src/CMakeFiles/MiniDNNLib.dir/optimizer/sgd.cc.o\u001b[0m\n",
            "[ 46%] \u001b[32mBuilding CXX object src/CMakeFiles/MiniDNNLib.dir/custom/basic_conv.cc.o\u001b[0m\n",
            "[ 50%] \u001b[32mBuilding CUDA object src/CMakeFiles/MiniDNNLib.dir/custom/basic_conv.cu.o\u001b[0m\n",
            "[ 53%] \u001b[32mBuilding CXX object src/CMakeFiles/MiniDNNLib.dir/custom/fashion_mnist.cc.o\u001b[0m\n",
            "[ 57%] \u001b[32mBuilding CXX object src/CMakeFiles/MiniDNNLib.dir/custom/diff-layer/diff_layer_conv.cc.o\u001b[0m\n",
            "[ 60%] \u001b[32mBuilding CUDA object src/CMakeFiles/MiniDNNLib.dir/custom/diff-layer/diff_layer_conv.cu.o\u001b[0m\n",
            "[ 64%] \u001b[32mBuilding CXX object src/CMakeFiles/MiniDNNLib.dir/custom/reduction-tree/reduction_tree_conv.cc.o\u001b[0m\n",
            "[ 67%] \u001b[32mBuilding CUDA object src/CMakeFiles/MiniDNNLib.dir/custom/reduction-tree/reduction_tree_conv.cu.o\u001b[0m\n",
            "[ 71%] \u001b[32mBuilding CXX object src/CMakeFiles/MiniDNNLib.dir/custom/stream/stream.cc.o\u001b[0m\n",
            "[ 75%] \u001b[32mBuilding CUDA object src/CMakeFiles/MiniDNNLib.dir/custom/stream/stream.cu.o\u001b[0m\n",
            "[ 78%] \u001b[32mBuilding CXX object src/CMakeFiles/MiniDNNLib.dir/custom/constant-mem/constant_mem.cc.o\u001b[0m\n",
            "[ 82%] \u001b[32mBuilding CUDA object src/CMakeFiles/MiniDNNLib.dir/custom/constant-mem/constant_mem.cu.o\u001b[0m\n",
            "[ 85%] \u001b[32mBuilding CXX object src/CMakeFiles/MiniDNNLib.dir/custom/restrict-unroll/restrict_unroll.cc.o\u001b[0m\n",
            "[ 89%] \u001b[32mBuilding CUDA object src/CMakeFiles/MiniDNNLib.dir/custom/restrict-unroll/restrict_unroll.cu.o\u001b[0m\n",
            "[ 92%] \u001b[32m\u001b[1mLinking CXX static library libMiniDNNLib.a\u001b[0m\n",
            "[ 92%] Built target MiniDNNLib\n",
            "[ 96%] \u001b[32mBuilding CXX object CMakeFiles/exp_newer_lenet.dir/exp_newer_lenet.cc.o\u001b[0m\n",
            "[100%] \u001b[32m\u001b[1mLinking CXX executable exp_newer_lenet\u001b[0m\n",
            "[100%] Built target exp_newer_lenet\n"
          ]
        }
      ],
      "source": [
        "!mkdir /content/lenet-5/build\n",
        "%cd /content/lenet-5/build\n",
        "!cmake /content/lenet-5/\n",
        "!make"
      ]
    },
    {
      "cell_type": "code",
      "execution_count": 16,
      "metadata": {
        "colab": {
          "base_uri": "https://localhost:8080/"
        },
        "id": "kxaEJL2SO8pt",
        "outputId": "b56f24b0-efc0-4f9f-e0ce-8bff149e098a"
      },
      "outputs": [
        {
          "output_type": "stream",
          "name": "stdout",
          "text": [
            "CMakeCache.txt\tCMakeFiles  cmake_install.cmake  exp_newer_lenet  Makefile  src\n"
          ]
        }
      ],
      "source": [
        "!ls"
      ]
    },
    {
      "cell_type": "code",
      "execution_count": 17,
      "metadata": {
        "colab": {
          "base_uri": "https://localhost:8080/"
        },
        "id": "QwcGOfwo3rpF",
        "outputId": "2a1fe311-4a5a-4a9f-86dc-228f4c72a099"
      },
      "outputs": [
        {
          "output_type": "stream",
          "name": "stdout",
          "text": [
            "Stream LeNet-5 implementation\n",
            "mnist train number: 60000\n",
            "mnist test number: 10000\n",
            "^C\n"
          ]
        }
      ],
      "source": [
        "!./exp_newer_lenet"
      ]
    },
    {
      "cell_type": "code",
      "execution_count": 18,
      "metadata": {
        "id": "DcEHCJkbKnVU",
        "colab": {
          "base_uri": "https://localhost:8080/"
        },
        "outputId": "f49251c1-5573-4458-a7ac-bcba62da0aa3"
      },
      "outputs": [
        {
          "output_type": "stream",
          "name": "stdout",
          "text": [
            "^C\n"
          ]
        }
      ],
      "source": [
        "!./exp_newer_lenet"
      ]
    },
    {
      "cell_type": "code",
      "execution_count": 19,
      "metadata": {
        "id": "pXKXyfFVj5Au"
      },
      "outputs": [],
      "source": [
        "# !nvcc exp_newer_lenet.cu -o exp_newer_lenet"
      ]
    },
    {
      "cell_type": "code",
      "execution_count": 20,
      "metadata": {
        "id": "Sv8vpgaokEDe"
      },
      "outputs": [],
      "source": [
        "# !./exp_newer_lenet"
      ]
    },
    {
      "cell_type": "code",
      "execution_count": 21,
      "metadata": {
        "id": "nTsnCKN6kR6_"
      },
      "outputs": [],
      "source": [
        "# !nvprof ./exp_newer_lenet"
      ]
    }
  ],
  "metadata": {
    "accelerator": "GPU",
    "colab": {
      "provenance": [],
      "include_colab_link": true
    },
    "kernelspec": {
      "display_name": "Python 3",
      "name": "python3"
    },
    "language_info": {
      "name": "python"
    }
  },
  "nbformat": 4,
  "nbformat_minor": 0
}