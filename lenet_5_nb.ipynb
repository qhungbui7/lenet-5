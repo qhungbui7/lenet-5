{
  "cells": [
    {
      "cell_type": "markdown",
      "metadata": {
        "id": "view-in-github"
      },
      "source": [
        "<a href=\"https://colab.research.google.com/github/qhungbui7/lenet-5/blob/main/lenet_5_nb.ipynb\" target=\"_parent\"><img src=\"https://colab.research.google.com/assets/colab-badge.svg\" alt=\"Open In Colab\"/></a>"
      ]
    },
    {
      "cell_type": "markdown",
      "metadata": {
        "id": "5qSgnewYFm2P"
      },
      "source": [
        "## Group 22\n",
        "\n",
        "\n",
        "\n",
        "| Student ID  | Full name  |\n",
        "|---|---|\n",
        "| 20127508  |  Bùi Quốc Hùng |\n",
        "|  20127521 |  Hồ Quang Khải |\n",
        "|  20127011 |  Lê Tấn Đạt  |\n",
        "\n"
      ]
    },
    {
      "cell_type": "markdown",
      "metadata": {
        "id": "xj87vPBcF5PJ"
      },
      "source": [
        "## How to run\n",
        "- We recommend this method: Clone from our Github. The source code from this submission is identical to the one on our Github.\n",
        "- About the data: https://drive.google.com/file/d/17TxUBVeP8vEoaoIylORYZRKdVWxOeKWv/view?usp=sharing (from https://www.kaggle.com/datasets/zalando-research/fashionmnist)\n",
        "- Where to put the data: Please create a folder, name it \"fashion-mnist\" in Google Drive: My Drive -> fashion-mnist"
      ]
    },
    {
      "cell_type": "code",
      "execution_count": null,
      "metadata": {
        "id": "VieH6ht6oFdv"
      },
      "outputs": [],
      "source": [
        "from google.colab import drive\n",
        "drive.mount('/content/drive', force_remount=True)"
      ]
    },
    {
      "cell_type": "code",
      "execution_count": null,
      "metadata": {
        "id": "E-vZIKr1Tipv"
      },
      "outputs": [],
      "source": [
        "%cd /content/"
      ]
    },
    {
      "cell_type": "code",
      "execution_count": null,
      "metadata": {
        "id": "wwB9YzOnTZpt"
      },
      "outputs": [],
      "source": [
        "!rm -r /content/lenet-5"
      ]
    },
    {
      "cell_type": "markdown",
      "metadata": {
        "id": "C6VWuaWM3KST"
      },
      "source": [
        "## NOTE\n",
        "- Rememeber to specify the development branch when cloning something\n",
        "- Change the execution file in CMakeLists.txt and execution below, for example I have written a new file called exp_newer_lenet.cc, then the execution file should be exp_newer_lenet\n",
        "- CMake project only allow one int main() function in the project, then write the main file in the ./lenet-5/main/ and then copy them into the project to execute cmake"
      ]
    },
    {
      "cell_type": "code",
      "execution_count": null,
      "metadata": {
        "id": "hWoSIx2KkkT6"
      },
      "outputs": [],
      "source": [
        "!git clone -b master https://github.com/qhungbui7/lenet-5.git"
      ]
    },
    {
      "cell_type": "code",
      "execution_count": null,
      "metadata": {
        "id": "xiUwpE1C5FLE"
      },
      "outputs": [],
      "source": [
        "%%writefile /content/lenet-5/main/exp_newer_lenet.cc\n",
        "\n",
        "\n",
        "#include <Eigen/Dense>\n",
        "#include <algorithm>\n",
        "#include <iostream>\n",
        "\n",
        "#include \"src/layer.h\"\n",
        "#include \"src/layer/conv.h\"\n",
        "#include \"src/layer/fully_connected.h\"\n",
        "#include \"src/layer/ave_pooling.h\"\n",
        "#include \"src/layer/max_pooling.h\"\n",
        "#include \"src/layer/relu.h\"\n",
        "#include \"src/layer/sigmoid.h\"\n",
        "#include \"src/layer/softmax.h\"\n",
        "#include \"src/loss.h\"\n",
        "#include \"src/loss/mse_loss.h\"\n",
        "#include \"src/loss/cross_entropy_loss.h\"\n",
        "#include \"src/mnist.h\"\n",
        "#include \"src/network.h\"\n",
        "#include \"src/optimizer.h\"\n",
        "#include \"src/optimizer/sgd.h\"\n",
        "#include \"src/custom/fashion_mnist.h\"\n",
        "#include \"src/custom/tiled/tiled.h\"\n",
        "\n",
        "using namespace std;\n",
        "\n",
        "int main() {\n",
        "  // data\n",
        "  FASHION_MNIST dataset(\"../data/fashion-mnist/\");\n",
        "  dataset.read();\n",
        "  std::cout << \"Tiled Convolution LeNet-5 implementation\" << std::endl;\n",
        "  int n_train = dataset.train_data.cols();\n",
        "  int dim_in = dataset.train_data.rows();\n",
        "  std::cout << \"mnist train number: \" << n_train << std::endl;\n",
        "  std::cout << \"mnist test number: \" << dataset.test_labels.cols() << std::endl;\n",
        "  // dnn\n",
        "\n",
        "  // Conv(int channel_in, int height_in, int width_in, int channel_out,\n",
        "  //      int height_kernel, int width_kernel, int stride = 1, int pad_w = 0,\n",
        "  //      int pad_h = 0)\n",
        "\n",
        "\n",
        "  // MaxPooling(int channel_in, int height_in, int width_in,\n",
        "  //            int height_pool, int width_pool, int stride = 1) :\n",
        "\n",
        "  // [(W−K+2P)/S]+1\n",
        "\n",
        "  Network lenet5;\n",
        "  Layer* conv1 = new Conv(1, 28, 28, 6, 5, 5, 1, 0, 0);\n",
        "  Layer* relu1 = new ReLU;\n",
        "  // (28 - 5 + 2 * 0) / 1 + 1 = 24\n",
        "\n",
        "  Layer* pool2 = new MaxPooling(6, 24, 24, 2, 2, 1);\n",
        "  // (24 - 2 + 2 * 0) / 1 + 1 = 23\n",
        "\n",
        "  Layer* conv3 = new Conv(6, 23, 23, 16, 5, 5, 1, 0, 0);\n",
        "  Layer* relu3 = new ReLU;\n",
        "  // (23 - 5 + 2 * 0) / 1 + 1 = 19\n",
        "\n",
        "  Layer* pool4 = new MaxPooling(16, 19, 19, 2, 2, 1);\n",
        "  // (23 - 2 + 2 * 0) / 1 + 1 = 18\n",
        "\n",
        "  Layer* fc6 = new FullyConnected(pool4->output_dim(), 120);\n",
        "  Layer* relu6 = new ReLU;\n",
        "  // 19 * 19 * 16 = 5776\n",
        "\n",
        "\n",
        "  Layer* fc7 = new FullyConnected(120, 84);\n",
        "  Layer* relu7 = new ReLU;\n",
        "\n",
        "  Layer* fc8 = new FullyConnected(84, 10);\n",
        "  Layer* softmax8 = new Softmax;\n",
        "\n",
        "  lenet5.add_layer(conv1);\n",
        "  lenet5.add_layer(relu1);\n",
        "\n",
        "  lenet5.add_layer(pool2);\n",
        "\n",
        "  lenet5.add_layer(conv3);\n",
        "  lenet5.add_layer(relu3);\n",
        "\n",
        "  lenet5.add_layer(pool4);\n",
        "\n",
        "  lenet5.add_layer(fc6);\n",
        "  lenet5.add_layer(relu6);\n",
        "\n",
        "  lenet5.add_layer(fc7);\n",
        "  lenet5.add_layer(relu7);\n",
        "\n",
        "  lenet5.add_layer(fc8);\n",
        "  lenet5.add_layer(softmax8);\n",
        "\n",
        "  // loss\n",
        "  Loss* loss = new CrossEntropy;\n",
        "  lenet5.add_loss(loss);\n",
        "  // train & test\n",
        "  SGD opt(0.001, 5e-4, 0.9, true);\n",
        "  // SGD opt(0.001);\n",
        "  const int n_epoch = 5;\n",
        "  const int batch_size = 128;\n",
        "  for (int epoch = 0; epoch < n_epoch; epoch ++) {\n",
        "    // break;\n",
        "    shuffle_data(dataset.train_data, dataset.train_labels);\n",
        "\n",
        "    lenet5.forward(dataset.test_data);\n",
        "    float acc = compute_accuracy(lenet5.output(), dataset.test_labels);\n",
        "    std::cout << std::endl;\n",
        "    std::cout << epoch + 1 << \"-th epoch, test acc: \" << acc << std::endl;\n",
        "    std::cout << std::endl;\n",
        "    break;\n",
        "  }\n",
        "\n",
        "\n",
        "  std::vector<std::vector<float>> weights = lenet5.get_parameters();\n",
        "\n",
        "\n",
        "\n",
        "  std::cout << \"GPU models\\n\";\n",
        "\n",
        "\n",
        "  Network c_lenet5;\n",
        "  Layer* c_conv1 = new Tiled(1, 28, 28, 6, 5, 5, 1, 0, 0);\n",
        "  Layer* c_relu1 = new ReLU;\n",
        "  // (28 - 5 + 2 * 0) / 1 + 1 = 24\n",
        "\n",
        "  Layer* c_pool2 = new MaxPooling(6, 24, 24, 2, 2, 1);\n",
        "  // (24 - 2 + 2 * 0) / 1 + 1 = 23\n",
        "\n",
        "  Layer* c_conv3 = new Tiled(6, 23, 23, 16, 5, 5, 1, 0, 0);\n",
        "  Layer* c_relu3 = new ReLU;\n",
        "  // (23 - 5 + 2 * 0) / 1 + 1 = 19\n",
        "\n",
        "  Layer* c_pool4 = new MaxPooling(16, 19, 19, 2, 2, 1);\n",
        "  // (23 - 2 + 2 * 0) / 1 + 1 = 18\n",
        "\n",
        "  Layer* c_fc6 = new FullyConnected(pool4->output_dim(), 120);\n",
        "  Layer* c_relu6 = new ReLU;\n",
        "  // 19 * 19 * 16 = 5776\n",
        "\n",
        "\n",
        "  Layer* c_fc7 = new FullyConnected(120, 84);\n",
        "  Layer* c_relu7 = new ReLU;\n",
        "\n",
        "  Layer* c_fc8 = new FullyConnected(84, 10);\n",
        "  Layer* c_softmax8 = new Softmax;\n",
        "\n",
        "  c_lenet5.add_layer(conv1);\n",
        "  c_lenet5.add_layer(relu1);\n",
        "\n",
        "  c_lenet5.add_layer(pool2);\n",
        "\n",
        "  c_lenet5.add_layer(conv3);\n",
        "  c_lenet5.add_layer(relu3);\n",
        "\n",
        "  c_lenet5.add_layer(pool4);\n",
        "\n",
        "  c_lenet5.add_layer(fc6);\n",
        "  c_lenet5.add_layer(relu6);\n",
        "\n",
        "  c_lenet5.add_layer(fc7);\n",
        "  c_lenet5.add_layer(relu7);\n",
        "\n",
        "  c_lenet5.add_layer(fc8);\n",
        "  c_lenet5.add_layer(softmax8);\n",
        "\n",
        "  c_lenet5.set_parameters(weights);\n",
        "\n",
        "  // loss\n",
        "  Loss* c_loss = new CrossEntropy;\n",
        "  c_lenet5.add_loss(c_loss);\n",
        "  // train & test\n",
        "  SGD c_opt(0.001, 5e-4, 0.9, true);\n",
        "  // SGD opt(0.001);\n",
        "  const int c_n_epoch = 5;\n",
        "  const int c_batch_size = 128;\n",
        "  for (int epoch = 0; epoch < c_n_epoch; epoch++) {\n",
        "    shuffle_data(dataset.train_data, dataset.train_labels);\n",
        "\n",
        "    c_lenet5.forward(dataset.test_data);\n",
        "    float c_acc = compute_accuracy(c_lenet5.output(), dataset.test_labels);\n",
        "    std::cout << std::endl;\n",
        "    std::cout << epoch + 1 << \"-th epoch, test acc: \" << c_acc << std::endl;\n",
        "    std::cout << std::endl;\n",
        "    break;\n",
        "\n",
        "\n",
        "\n",
        "  }\n",
        "  return 0;\n",
        "}\n",
        "\n",
        "\n"
      ]
    },
    {
      "cell_type": "markdown",
      "metadata": {
        "id": "X6OOTHXi6uPC"
      },
      "source": [
        "Copy file from ./lenet-5/main/ to project folder"
      ]
    },
    {
      "cell_type": "code",
      "execution_count": null,
      "metadata": {
        "id": "GEQgjGOY3VOE"
      },
      "outputs": [],
      "source": [
        "!cp ./lenet-5/main/exp_newer_lenet.cc ./lenet-5/exp_newer_lenet.cc"
      ]
    },
    {
      "cell_type": "code",
      "execution_count": null,
      "metadata": {
        "id": "fI8x1Tesosv1"
      },
      "outputs": [],
      "source": [
        "%%writefile /content/lenet-5/CMakeLists.txt\n",
        "\n",
        "cmake_minimum_required (VERSION 3.0)\n",
        "project (myproject LANGUAGES CXX CUDA)\n",
        "if(NOT DEFINED CMAKE_CUDA_ARCHITECTURES)\n",
        "  set(CMAKE_CUDA_ARCHITECTURES 75)\n",
        "endif()\n",
        "find_package(CUDA  REQUIRED)\n",
        "include_directories(\"${CUDA_INCLUDE_DIRS}\")\n",
        "set_target_properties(\n",
        "        PROPERTIES\n",
        "        CUDA_SEPARABLE_COMPILATION ON\n",
        ")\n",
        "\n",
        "include_directories (\"${PROJECT_SOURCE_DIR}/third_party/eigen\")\n",
        "# 查找当前目录下的所有源文件\n",
        "# 并将名称保存到 DIR_SRCS 变量\n",
        "aux_source_directory(. DIR_SRCS)\n",
        "# 添加 math 子目录\n",
        "add_subdirectory(src)\n",
        "# 指定生成目标\n",
        "add_executable(exp_newer_lenet ${DIR_SRCS})\n",
        "# 添加链接库\n",
        "target_link_libraries(exp_newer_lenet MiniDNNLib)"
      ]
    },
    {
      "cell_type": "code",
      "execution_count": null,
      "metadata": {
        "id": "YXQGCemdtvx6"
      },
      "outputs": [],
      "source": [
        "%%writefile /content/lenet-5/src/CMakeLists.txt\n",
        "\n",
        "# 查找当前目录下的所有源文件\n",
        "# 并将名称保存到 DIR_LIB_SRCS 变量\n",
        "aux_source_directory(. DIR_LIB_SRCS)\n",
        "aux_source_directory(./layer DIR_LIB_SRCS)\n",
        "aux_source_directory(./loss DIR_LIB_SRCS)\n",
        "aux_source_directory(./optimizer DIR_LIB_SRCS)\n",
        "aux_source_directory(./custom DIR_LIB_SRCS)\n",
        "aux_source_directory(./custom/diff-layer DIR_LIB_SRCS)\n",
        "aux_source_directory(./custom/reduction-tree DIR_LIB_SRCS)\n",
        "\n",
        "aux_source_directory(./custom/stream DIR_LIB_SRCS)\n",
        "aux_source_directory(./custom/fp16 DIR_LIB_SRCS)\n",
        "aux_source_directory(./custom/constant-mem DIR_LIB_SRCS)\n",
        "aux_source_directory(./custom/restrict-unroll DIR_LIB_SRCS)\n",
        "aux_source_directory(./custom/tiled DIR_LIB_SRCS)\n",
        "\n",
        "\n",
        "# 生成链接库\n",
        "add_library (MiniDNNLib ${DIR_LIB_SRCS})"
      ]
    },
    {
      "cell_type": "code",
      "execution_count": null,
      "metadata": {
        "id": "ekaZavp9mLS1"
      },
      "outputs": [],
      "source": [
        "!mkdir ./lenet-5/data/\n",
        "!mkdir ./lenet-5/data/fashion-mnist"
      ]
    },
    {
      "cell_type": "markdown",
      "metadata": {
        "id": "RIOgqNkMOi3V"
      },
      "source": [
        "Copy from Google Drive to this this folder, then unzip it into destination folder"
      ]
    },
    {
      "cell_type": "code",
      "execution_count": null,
      "metadata": {
        "id": "qxe4kqSWoIue"
      },
      "outputs": [],
      "source": [
        "!cp /content/drive/MyDrive/fashion-mnist/fashion-mnist.zip /content/fashion-mnist.zip"
      ]
    },
    {
      "cell_type": "code",
      "execution_count": null,
      "metadata": {
        "id": "SpBUlGJboOew"
      },
      "outputs": [],
      "source": [
        "!unzip fashion-mnist.zip -d ./lenet-5/data/fashion-mnist"
      ]
    },
    {
      "cell_type": "code",
      "execution_count": null,
      "metadata": {
        "id": "TLeCBPCikIid"
      },
      "outputs": [],
      "source": [
        "%cd ./lenet-5"
      ]
    },
    {
      "cell_type": "code",
      "execution_count": null,
      "metadata": {
        "id": "Q-3P_QmropOR"
      },
      "outputs": [],
      "source": [
        "!ls ./data"
      ]
    },
    {
      "cell_type": "code",
      "execution_count": null,
      "metadata": {
        "id": "tGJq8p0eMdR4"
      },
      "outputs": [],
      "source": [
        "%cd /content/lenet-5"
      ]
    },
    {
      "cell_type": "code",
      "execution_count": null,
      "metadata": {
        "id": "gyzckXW-pBte"
      },
      "outputs": [],
      "source": [
        "!mkdir /content/lenet-5/build\n",
        "%cd /content/lenet-5/build\n",
        "!cmake /content/lenet-5/\n",
        "!make"
      ]
    },
    {
      "cell_type": "code",
      "execution_count": null,
      "metadata": {
        "id": "kxaEJL2SO8pt"
      },
      "outputs": [],
      "source": [
        "!ls"
      ]
    },
    {
      "cell_type": "code",
      "execution_count": null,
      "metadata": {
        "id": "QwcGOfwo3rpF"
      },
      "outputs": [],
      "source": [
        "!./exp_newer_lenet"
      ]
    },
    {
      "cell_type": "code",
      "execution_count": null,
      "metadata": {
        "id": "DcEHCJkbKnVU"
      },
      "outputs": [],
      "source": [
        "!./exp_newer_lenet"
      ]
    },
    {
      "cell_type": "code",
      "execution_count": null,
      "metadata": {
        "id": "pXKXyfFVj5Au"
      },
      "outputs": [],
      "source": [
        "# !nvcc exp_newer_lenet.cu -o exp_newer_lenet"
      ]
    },
    {
      "cell_type": "code",
      "execution_count": null,
      "metadata": {
        "id": "Sv8vpgaokEDe"
      },
      "outputs": [],
      "source": [
        "# !./exp_newer_lenet"
      ]
    },
    {
      "cell_type": "code",
      "execution_count": null,
      "metadata": {
        "id": "nTsnCKN6kR6_"
      },
      "outputs": [],
      "source": [
        "# !nvprof ./exp_newer_lenet"
      ]
    }
  ],
  "metadata": {
    "accelerator": "GPU",
    "colab": {
      "provenance": []
    },
    "kernelspec": {
      "display_name": "Python 3",
      "name": "python3"
    },
    "language_info": {
      "name": "python"
    }
  },
  "nbformat": 4,
  "nbformat_minor": 0
}